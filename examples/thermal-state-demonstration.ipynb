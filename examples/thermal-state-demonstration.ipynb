{
 "cells": [
  {
   "cell_type": "code",
   "execution_count": 1,
   "id": "629780a0",
   "metadata": {},
   "outputs": [],
   "source": [
    "import matplotlib.pyplot as plt\n",
    "import numpy as np\n",
    "import sympy as sp\n",
    "import networkx as nx\n",
    "import cirq"
   ]
  },
  {
   "cell_type": "markdown",
   "id": "635e1624",
   "metadata": {},
   "source": [
    "Create a random graph"
   ]
  },
  {
   "cell_type": "code",
   "execution_count": 5,
   "id": "ef35b9ae",
   "metadata": {},
   "outputs": [
    {
     "data": {
      "image/png": "[encoded data removed]",
      "text/plain": [
       "<Figure size 432x288 with 1 Axes>"
      ]
     },
     "metadata": {},
     "output_type": "display_data"
    }
   ],
   "source": [
    "graph = nx.generators.random_graphs.erdos_renyi_graph(n=5,p=0.5)\n",
    "nx.draw_circular(graph, node_size=1000, with_labels=True)\n",
    "plt.show()"
   ]
  },
  {
   "cell_type": "code",
   "execution_count": 6,
   "id": "e4537589",
   "metadata": {},
   "outputs": [],
   "source": [
    "def product(*args, repeat=1):\n",
    "    # product('ABCD', 'xy') --> Ax Ay Bx By Cx Cy Dx Dy\n",
    "    # product(range(2), repeat=3) --> 000 001 010 011 100 101 110 111\n",
    "    pools = [list(pool) for pool in args] * repeat\n",
    "    result = [[]]\n",
    "    for pool in pools:\n",
    "        result = [x+[y] for x in result for y in pool]\n",
    "    for prod in result:\n",
    "        yield list(prod)\n",
    "        \n",
    "# Number of edges\n",
    "M = len(graph.edges)\n",
    "# Number of nodes\n",
    "N = len(graph.nodes)\n",
    "# Adjacency matrix\n",
    "A = nx.adjacency_matrix(graph).todense()\n",
    "\n",
    "# Generate a list of all possible n‐tuples of elements from {1,-1} and\n",
    "# organize them as a (2^N x N) matrix. In other words create all possible\n",
    "# solutions to the problem.\n",
    "s = np.array(list(product([1, -1], repeat=N)))\n",
    "\n",
    "# Construct the the cost function for Max Cut: C = 1/2 Sum(Z_i*Z_j) - M/2\n",
    "# Note: This is the minimization version\n",
    "C = 1/2*(np.diag(s@np.triu(A)@s.T) - M)\n",
    "\n",
    "# Find the args that corresponds to the minimums of the cost function\n",
    "args = np.where(C == min(C))"
   ]
  },
  {
   "cell_type": "markdown",
   "id": "3ddf8302",
   "metadata": {},
   "source": [
    "Create the ideal state \n",
    "$$\n",
    "\\rho_\\text{ideal} = |\\psi_\\text{GS}\\rangle\\langle \\psi_\\text{GS}|\n",
    "$$"
   ]
  },
  {
   "cell_type": "code",
   "execution_count": 7,
   "id": "40bf96a4",
   "metadata": {},
   "outputs": [
    {
     "name": "stdout",
     "output_type": "stream",
     "text": [
      "Energy of ground state: -5.0\n"
     ]
    }
   ],
   "source": [
    "rho_ideal = np.zeros(2**5)\n",
    "for arg in args[0]:\n",
    "    rho_ideal[arg] = 1\n",
    "rho_ideal = rho_ideal / np.sum(rho_ideal) # normalize\n",
    "print(\"Energy of ground state:\",round(np.sum(rho_ideal*C),3))"
   ]
  },
  {
   "cell_type": "markdown",
   "id": "e9117421",
   "metadata": {},
   "source": [
    "Create a thermal state \n",
    "$$\n",
    "\\rho_\\text{thermal} = \\frac{1}{Z}\\sum_{i=1}^d e^{-\\beta E_i}|\\psi_i\\rangle \\langle\\psi_i|\n",
    "$$"
   ]
  },
  {
   "cell_type": "code",
   "execution_count": 8,
   "id": "5b912aa4",
   "metadata": {},
   "outputs": [
    {
     "name": "stdout",
     "output_type": "stream",
     "text": [
      "Average energy of thermal state: -2.842\n"
     ]
    }
   ],
   "source": [
    "beta = 0.1 # temperature\n",
    "rho_thermal = np.exp(beta*C)\n",
    "rho_thermal = rho_thermal / np.sum(rho_thermal) # normalize\n",
    "print(\"Average energy of thermal state:\",round(np.sum(rho_thermal*C),3))"
   ]
  },
  {
   "cell_type": "markdown",
   "id": "90327e9b",
   "metadata": {},
   "source": [
    "Create a mixed state between the ideal and thermal state\n",
    "$$\n",
    "\\rho = 0.5 \\rho_\\mathrm{ideal} + 0.5\\rho_\\text{thermal}\n",
    "$$"
   ]
  },
  {
   "cell_type": "code",
   "execution_count": 9,
   "id": "ac7e42c9",
   "metadata": {},
   "outputs": [],
   "source": [
    "rho = 0.5*rho_ideal + 0.5*rho_thermal"
   ]
  },
  {
   "cell_type": "markdown",
   "id": "706c2a9c",
   "metadata": {},
   "source": [
    "Calculate the probability of being in the ground state"
   ]
  },
  {
   "cell_type": "code",
   "execution_count": 20,
   "id": "d9231185",
   "metadata": {},
   "outputs": [
    {
     "data": {
      "text/plain": [
       "0.668790153321484"
      ]
     },
     "execution_count": 20,
     "metadata": {},
     "output_type": "execute_result"
    }
   ],
   "source": [
    "sum(rho[arg] for arg in args[0])"
   ]
  },
  {
   "cell_type": "markdown",
   "id": "e0aeef2e",
   "metadata": {},
   "source": [
    "## Virtual distillation"
   ]
  },
  {
   "cell_type": "markdown",
   "id": "fdf12eda",
   "metadata": {},
   "source": [
    "We first make $\\rho$ into a proper matrix"
   ]
  },
  {
   "cell_type": "code",
   "execution_count": 17,
   "id": "2720a764",
   "metadata": {},
   "outputs": [],
   "source": [
    "rho_dm = np.diag(rho)"
   ]
  },
  {
   "cell_type": "markdown",
   "id": "15da5b22",
   "metadata": {},
   "source": [
    "Next we construct the normalized square of $\\rho$\n",
    "\n",
    "$$\n",
    "\\frac{\\rho^2}{\\mathrm{Tr}(\\rho^2)}\n",
    "$$"
   ]
  },
  {
   "cell_type": "code",
   "execution_count": 18,
   "id": "eb5458c6",
   "metadata": {},
   "outputs": [],
   "source": [
    "rho_sq_norm = rho_dm@rho_dm / np.trace(rho_dm@rho_dm)\n",
    "rho_sq_norm = rho_sq_norm.astype('complex64')"
   ]
  },
  {
   "cell_type": "markdown",
   "id": "b11949e6",
   "metadata": {},
   "source": [
    "Now we can calculate what the mitigated cost given depolarizing noise in the virtual distillation circuit"
   ]
  },
  {
   "cell_type": "code",
   "execution_count": 19,
   "id": "d4c863aa",
   "metadata": {},
   "outputs": [
    {
     "name": "stdout",
     "output_type": "stream",
     "text": [
      "Mitigated cost: 4.517\n"
     ]
    }
   ],
   "source": [
    "# probability of error\n",
    "p_error = 0.1\n",
    "\n",
    "# create qubits\n",
    "qubits = cirq.LineQubit.range(len(graph.nodes))\n",
    "\n",
    "# init expval\n",
    "expval = 0 \n",
    "for u, v in graph.edges:\n",
    "    zz = cirq.PauliString(cirq.Z(qubits[u])) * cirq.PauliString(cirq.Z(qubits[v]))\n",
    "    expval_zz = zz.expectation_from_density_matrix(\n",
    "        state=rho_sq_norm, \n",
    "        qubit_map={q: i for i, q in enumerate(qubits)}\n",
    "    ).real\n",
    "    expval += (1-p_error)**2 * expval_zz\n",
    "    \n",
    "mitigated_cost = - 1/2 * (expval - M)\n",
    "print('Mitigated cost:', round(mitigated_cost,3))"
   ]
  },
  {
   "cell_type": "markdown",
   "id": "ba4f34be",
   "metadata": {},
   "source": [
    "### Calculate the variance of the estimator"
   ]
  },
  {
   "cell_type": "markdown",
   "id": "bf012b70",
   "metadata": {},
   "source": [
    "Now we are interested in the variance"
   ]
  },
  {
   "cell_type": "code",
   "execution_count": 21,
   "id": "89bc4664",
   "metadata": {},
   "outputs": [],
   "source": [
    "def virtual_distillation(rho:np.array, meas:bool=True, with_noise:object=None):\n",
    "    shape = rho.shape\n",
    "    num_q = int(np.log2(shape[0])) # number of qubits in rho\n",
    "    qubits = cirq.LineQubit.range(2*num_q+1) # Create qubits\n",
    "    \n",
    "    \"\"\"Create the virtual distillation circuit.\"\"\"\n",
    "    circuit = cirq.Circuit() # Initialize circuit\n",
    "            \n",
    "    for q in range(num_q):\n",
    "        circuit.append(cirq.FREDKIN(qubits[0], qubits[q+1], qubits[num_q+(q+1)]))\n",
    "        if with_noise != None:\n",
    "            circuit.append(with_noise.on_each(qubits[0], qubits[q+1], qubits[num_q+(q+1)]))\n",
    "    \n",
    "    if meas:\n",
    "        # All relevant things can be computed in the computational basis.\n",
    "        circuit.append(cirq.Moment(cirq.measure(q) for q in qubits))\n",
    "    return circuit"
   ]
  },
  {
   "cell_type": "code",
   "execution_count": 22,
   "id": "67750230",
   "metadata": {},
   "outputs": [],
   "source": [
    "\"\"\"Create a Depolarizing channel.\"\"\"\n",
    "class DepolarizingChannel(cirq.SingleQubitGate):\n",
    "    def __init__(self, p: float) -> None:\n",
    "        self._p = p\n",
    "\n",
    "    def _mixture_(self):\n",
    "        ps = [1.0 - 3*self._p/4, self._p/4, self._p/4, self._p/4]\n",
    "        ops = [cirq.unitary(cirq.I), cirq.unitary(cirq.X), cirq.unitary(cirq.Y), cirq.unitary(cirq.Z)]\n",
    "        return tuple(zip(ps, ops))\n",
    "\n",
    "    def _has_mixture_(self) -> bool:\n",
    "        return True\n",
    "\n",
    "    def _circuit_diagram_info_(self, args) -> str:\n",
    "        return f\"D({self._p})\"\n",
    "\n",
    "\"\"\"Create a Dephasing channel.\"\"\"\n",
    "class DephasingChannel(cirq.SingleQubitGate):\n",
    "    def __init__(self, p: float) -> None:\n",
    "        self._p = p\n",
    "\n",
    "    def _mixture_(self):\n",
    "        ps = [1.0 - self._p/2, self._p/2]\n",
    "        ops = [cirq.unitary(cirq.I), cirq.unitary(cirq.Z)]\n",
    "        return tuple(zip(ps, ops))\n",
    "\n",
    "    def _has_mixture_(self) -> bool:\n",
    "        return True\n",
    "\n",
    "    def _circuit_diagram_info_(self, args) -> str:\n",
    "        return f\"Lambda({self._p})\""
   ]
  },
  {
   "cell_type": "code",
   "execution_count": 23,
   "id": "aea08bbf",
   "metadata": {},
   "outputs": [],
   "source": [
    "\"\"\"Setup variables\"\"\"\n",
    "rho_sq = rho_dm@rho_dm # square of rho\n",
    "shape = rho_dm.shape # shape of rho\n",
    "num_q = int(np.log2(shape[0])) # number of qubits in rho\n",
    "\n",
    "\"\"\"Prepare the initial state of the ancilla\"\"\"\n",
    "ancilla = 1/2*np.array([[1,1],[1,1]])\n",
    "\n",
    "\"\"\"Prepare the total initial state\"\"\"\n",
    "initial_state = cirq.kron(ancilla,rho_dm,rho_dm)\n",
    "\n",
    "\"\"\"Change data type to complex64\"\"\"\n",
    "initial_state = initial_state.astype('complex64')\n",
    "\n",
    "\"\"\"Simulating with the density matrix simulator.\"\"\"\n",
    "simulator = cirq.DensityMatrixSimulator(\n",
    "    split_untangled_states=True\n",
    ")\n",
    "\n",
    "\"\"\"Create the virtial distillation circuit\"\"\"\n",
    "vd_circuit = virtual_distillation(\n",
    "    rho,\n",
    "    meas=False,\n",
    "    with_noise=DepolarizingChannel(p=0.1)\n",
    ")\n",
    "\n",
    "\"\"\"Simulate the circuit\"\"\"\n",
    "qubits = cirq.LineQubit.range(2*num_q+1) # Create qubits\n",
    "result = simulator.simulate(\n",
    "    vd_circuit,\n",
    "    initial_state=initial_state,\n",
    "    qubit_order=qubits\n",
    ")\n",
    "# output density matrix\n",
    "rho_out = result.final_density_matrix"
   ]
  },
  {
   "cell_type": "code",
   "execution_count": 24,
   "id": "f5cedd53",
   "metadata": {},
   "outputs": [],
   "source": [
    "\"\"\"\"Symmeterized version of the cost Hamiltonian H_C\"\"\"\n",
    "C_2 = 0 \n",
    "for (u,v) in graph.edges: \n",
    "    C_2 += 1/4 * (1-cirq.PauliString(cirq.Z(qubits[u+1])) * cirq.PauliString(cirq.Z(qubits[v+1]))) \\\n",
    "         + 1/4 * (1-cirq.PauliString(cirq.Z(qubits[u+(num_q+1)])) * cirq.PauliString(cirq.Z(qubits[v+(num_q+1)])))\n",
    "    \n",
    "\"\"\"Ancilla Observable\"\"\"\n",
    "X_0 = cirq.PauliString(cirq.X(qubits[0]))"
   ]
  },
  {
   "cell_type": "code",
   "execution_count": 27,
   "id": "c37d8520",
   "metadata": {},
   "outputs": [
    {
     "name": "stdout",
     "output_type": "stream",
     "text": [
      "Mitigated cost 4.51705\n"
     ]
    }
   ],
   "source": [
    "y = X_0 * C_2 # observable numerator\n",
    "numerator = y.expectation_from_density_matrix(\n",
    "    state=rho_out, \n",
    "    qubit_map={q: i for i, q in enumerate(qubits)}\n",
    ")\n",
    "\n",
    "denominator = X_0.expectation_from_density_matrix(\n",
    "    state=rho_out, \n",
    "    qubit_map={q: i for i, q in enumerate(qubits)}\n",
    ")\n",
    "\n",
    "mitigated_cost = (numerator / denominator).real\n",
    "print('Mitigated cost', round(mitigated_cost,5))"
   ]
  }
 ],
 "metadata": {
  "kernelspec": {
   "display_name": "Python 3 (ipykernel)",
   "language": "python",
   "name": "python3"
  },
  "language_info": {
   "codemirror_mode": {
    "name": "ipython",
    "version": 3
   },
   "file_extension": ".py",
   "mimetype": "text/x-python",
   "name": "python",
   "nbconvert_exporter": "python",
   "pygments_lexer": "ipython3",
   "version": "3.9.9"
  }
 },
 "nbformat": 4,
 "nbformat_minor": 5
}
