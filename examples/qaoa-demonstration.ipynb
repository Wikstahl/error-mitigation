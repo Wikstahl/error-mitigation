{
 "cells": [
  {
   "cell_type": "markdown",
   "id": "4f8a7c24",
   "metadata": {},
   "source": [
    "# Awesome title"
   ]
  },
  {
   "cell_type": "markdown",
   "id": "816476b6",
   "metadata": {},
   "source": [
    "This notebook is demonstrates the techniques used in the paper REF TO OUR PAPER"
   ]
  },
  {
   "cell_type": "markdown",
   "id": "9f482c0d",
   "metadata": {},
   "source": [
    "## Import packages"
   ]
  },
  {
   "cell_type": "code",
   "execution_count": 1,
   "id": "4fd59af8",
   "metadata": {},
   "outputs": [],
   "source": [
    "import matplotlib.pyplot as plt\n",
    "import numpy as np\n",
    "import sympy as sp\n",
    "import networkx as nx\n",
    "import cirq"
   ]
  },
  {
   "cell_type": "markdown",
   "id": "50ed30d3",
   "metadata": {},
   "source": [
    "## Table of content\n",
    "\n",
    "- ### <a href=\"#1.-Create-a-Random-Max-Cut-graph\">1. Create a Random Max Cut graph</a>\n",
    "- ### <a href=\"#2.-Construct-the-QAOA-circuit\">2. Construct the QAOA circuit</a>\n",
    "- ### <a href=\"#3.-Create-a-Random-Max-Cut-graph\">3. Calculating the expected value of the QAOA cost Hamiltonian</a>\n",
    "- ### <a href=\"#1.-Create-a-Random-Max-Cut-graph\">4. Outer loop optimization</a>\n",
    "- ### <a href=\"#1.-Create-a-Random-Max-Cut-graph\">5. Virtual Distillation</a>"
   ]
  },
  {
   "cell_type": "markdown",
   "id": "38ff5a98",
   "metadata": {},
   "source": [
    "## 1. Create a Random Max-Cut graph\n",
    "Generate a random Erdös Renyi graph with 5 nodes and 0.5 edge probability."
   ]
  },
  {
   "cell_type": "code",
   "execution_count": 6,
   "id": "6531cabe",
   "metadata": {},
   "outputs": [
    {
     "data": {
      "image/png": "[encoded data removed]",
      "text/plain": [
       "<Figure size 432x288 with 1 Axes>"
      ]
     },
     "metadata": {},
     "output_type": "display_data"
    }
   ],
   "source": [
    "graph = nx.generators.random_graphs.erdos_renyi_graph(n=5,p=0.5)\n",
    "nx.draw_circular(graph, node_size=1000, with_labels=True)\n",
    "plt.show()"
   ]
  },
  {
   "cell_type": "markdown",
   "id": "a4858109",
   "metadata": {},
   "source": [
    "Create the corresponding Max-Cut Hamiltonian where each edge has unit weight.\n",
    "$$\n",
    "    H_C = - \\frac{1}{2} \\sum_{\\langle i, j\\rangle} (1 - Z_i Z_j ).\n",
    "$$\n",
    "*Note* that since $H_C$ is diagonal in the computational basis we can store it as an 1-D array."
   ]
  },
  {
   "cell_type": "code",
   "execution_count": 7,
   "id": "7cbdd391",
   "metadata": {},
   "outputs": [],
   "source": [
    "def product(*args, repeat=1):\n",
    "    # product('ABCD', 'xy') --> Ax Ay Bx By Cx Cy Dx Dy\n",
    "    # product(range(2), repeat=3) --> 000 001 010 011 100 101 110 111\n",
    "    pools = [list(pool) for pool in args] * repeat\n",
    "    result = [[]]\n",
    "    for pool in pools:\n",
    "        result = [x+[y] for x in result for y in pool]\n",
    "    for prod in result:\n",
    "        yield list(prod)\n",
    "        \n",
    "# Number of edges\n",
    "M = len(graph.edges)\n",
    "# Number of nodes\n",
    "N = len(graph.nodes)\n",
    "# Adjacency matrix\n",
    "A = nx.adjacency_matrix(graph).todense()\n",
    "\n",
    "# Generate a list of all possible n‐tuples of elements from {1,-1} and\n",
    "# organize them as a (2^N x N) matrix. In other words create all possible\n",
    "# solutions to the problem.\n",
    "s = np.array(list(product([1, -1], repeat=N)))\n",
    "\n",
    "# Construct the the cost function for Max Cut: C = 1/2 Sum(Z_i*Z_j) - M/2\n",
    "# Note: This is the minimization version\n",
    "C = 1/2*(np.diag(s@np.triu(A)@s.T) - M)"
   ]
  },
  {
   "cell_type": "markdown",
   "id": "73e9be32",
   "metadata": {},
   "source": [
    "## 2. Construct the QAOA circuit\n",
    "Now that we have created a Max-Cut problem graph, it's time to generate the QAOA circuit. For simplicity we only create the $p=1$ circuit"
   ]
  },
  {
   "cell_type": "code",
   "execution_count": 8,
   "id": "2b561d7f",
   "metadata": {},
   "outputs": [],
   "source": [
    "# Symbols for the rotation angles in the QAOA circuit.\n",
    "alpha = sp.Symbol('alpha')\n",
    "beta = sp.Symbol('beta')\n",
    "\n",
    "def qaoa_circuit(graph:object, meas:bool=True, with_noise:object=None):\n",
    "    \"\"\"\n",
    "    Creates the QAOA circuit given a graph\n",
    "    \"\"\"\n",
    "    num_q = len(graph.nodes) # number of qubits\n",
    "    qubits = cirq.LineQubit.range(num_q)\n",
    "    \n",
    "    \"\"\"Here we create the circuit\"\"\"\n",
    "    circuit = cirq.Circuit() # Initialize circuit\n",
    "    circuit.append(cirq.H(q) for q in qubits) # Add Hadamard\n",
    "    \n",
    "    if with_noise != None:\n",
    "        circuit.append(with_noise.on_each(*cirq.LineQubit.range(num_q))) # Add noise\n",
    "    \n",
    "    for (u,v) in graph.edges: \n",
    "        circuit.append(cirq.ZZ(qubits[u], qubits[v]) ** alpha)\n",
    "        if with_noise != None:\n",
    "            circuit.append(with_noise.on_each(qubits[u], qubits[v])) # Add noise\n",
    "                \n",
    "    circuit.append(cirq.Moment(cirq.X(q) ** beta for q in qubits)) \n",
    "\n",
    "    if with_noise != None:\n",
    "        circuit.append(with_noise.on_each(*cirq.LineQubit.range(num_q))) # Add noise\n",
    "    \n",
    "    if meas:\n",
    "        # All relevant things can be computed in the computational basis.\n",
    "        circuit.append(cirq.Moment(cirq.measure(q) for q in qubits))\n",
    "    return circuit"
   ]
  },
  {
   "cell_type": "markdown",
   "id": "4aed4f6a",
   "metadata": {},
   "source": [
    "Look at the circuit"
   ]
  },
  {
   "cell_type": "code",
   "execution_count": 9,
   "id": "dabc1566",
   "metadata": {},
   "outputs": [
    {
     "data": {
      "text/html": [
       "<pre style=\"overflow: auto; white-space: pre;\">                     ┌────────────────┐\n",
       "0: ───H───ZZ──────────ZZ──────────────────ZZ─────────X^beta───M───\n",
       "          │           │                   │\n",
       "1: ───H───ZZ^alpha────┼───────ZZ──────────┼──────────X^beta───M───\n",
       "                      │       │           │\n",
       "2: ───H───────────────┼───────ZZ^alpha────┼──────────X^beta───M───\n",
       "                      │                   │\n",
       "3: ───H───────────────ZZ^alpha────────────┼──────────X^beta───M───\n",
       "                                          │\n",
       "4: ───H───────────────────────────────────ZZ^alpha───X^beta───M───\n",
       "                     └────────────────┘</pre>"
      ],
      "text/plain": [
       "                     ┌────────────────┐\n",
       "0: ───H───ZZ──────────ZZ──────────────────ZZ─────────X^beta───M───\n",
       "          │           │                   │\n",
       "1: ───H───ZZ^alpha────┼───────ZZ──────────┼──────────X^beta───M───\n",
       "                      │       │           │\n",
       "2: ───H───────────────┼───────ZZ^alpha────┼──────────X^beta───M───\n",
       "                      │                   │\n",
       "3: ───H───────────────ZZ^alpha────────────┼──────────X^beta───M───\n",
       "                                          │\n",
       "4: ───H───────────────────────────────────ZZ^alpha───X^beta───M───\n",
       "                     └────────────────┘"
      ]
     },
     "execution_count": 9,
     "metadata": {},
     "output_type": "execute_result"
    }
   ],
   "source": [
    "qaoa_circuit(graph)"
   ]
  },
  {
   "cell_type": "markdown",
   "id": "b10b7bee",
   "metadata": {},
   "source": [
    "### Error models"
   ]
  },
  {
   "cell_type": "markdown",
   "id": "ab603194",
   "metadata": {},
   "source": [
    "To simulate QAOA with noise we begin by constructing the noise channels\n",
    "\n",
    "#### Depolarizing Channel\n",
    "$$\n",
    "\\Lambda_\\mathrm{dep}(\\rho) = (1-\\frac{4\\epsilon}{3})\\rho + \\frac{\\epsilon}{4}(X\\rho X + Y\\rho Y + Z\\rho Z)\n",
    "$$\n",
    "\n",
    "#### Dephasing Channel\n",
    "$$\n",
    "\\Lambda_\\mathrm{Z}(\\rho) = (1-\\frac{\\epsilon}{2})\\rho + \\frac{\\epsilon}{2}Z\\rho Z\n",
    "$$"
   ]
  },
  {
   "cell_type": "code",
   "execution_count": 10,
   "id": "699c8fdc",
   "metadata": {},
   "outputs": [],
   "source": [
    "\"\"\"Create a Depolarizing channel.\"\"\"\n",
    "class DepolarizingChannel(cirq.SingleQubitGate):\n",
    "    def __init__(self, p: float) -> None:\n",
    "        self._p = p\n",
    "\n",
    "    def _mixture_(self):\n",
    "        ps = [1.0 - 3*self._p/4, self._p/4, self._p/4, self._p/4]\n",
    "        ops = [cirq.unitary(cirq.I), cirq.unitary(cirq.X), cirq.unitary(cirq.Y), cirq.unitary(cirq.Z)]\n",
    "        return tuple(zip(ps, ops))\n",
    "\n",
    "    def _has_mixture_(self) -> bool:\n",
    "        return True\n",
    "\n",
    "    def _circuit_diagram_info_(self, args) -> str:\n",
    "        return f\"D({self._p})\"\n",
    "\n",
    "\"\"\"Create a Dephasing channel.\"\"\"\n",
    "class DephasingChannel(cirq.SingleQubitGate):\n",
    "    def __init__(self, p: float) -> None:\n",
    "        self._p = p\n",
    "\n",
    "    def _mixture_(self):\n",
    "        ps = [1.0 - self._p/2, self._p/2]\n",
    "        ops = [cirq.unitary(cirq.I), cirq.unitary(cirq.Z)]\n",
    "        return tuple(zip(ps, ops))\n",
    "\n",
    "    def _has_mixture_(self) -> bool:\n",
    "        return True\n",
    "\n",
    "    def _circuit_diagram_info_(self, args) -> str:\n",
    "        return f\"Lambda({self._p})\""
   ]
  },
  {
   "cell_type": "markdown",
   "id": "9906558a",
   "metadata": {},
   "source": [
    "Then we can input the channels with argument `with_noise` to `qaoa_circuit`"
   ]
  },
  {
   "cell_type": "code",
   "execution_count": 11,
   "id": "894df6a0",
   "metadata": {},
   "outputs": [
    {
     "data": {
      "text/html": [
       "<pre style=\"overflow: auto; white-space: pre;\">                                                   ┌────────────────┐\n",
       "0: ───H───Lambda(0.01)───ZZ─────────Lambda(0.01)────ZZ──────────────────Lambda(0.01)───ZZ─────────Lambda(0.01)───X^beta───Lambda(0.01)───M───\n",
       "                         │                          │                                  │\n",
       "1: ───H───Lambda(0.01)───ZZ^alpha───Lambda(0.01)────┼───────ZZ──────────Lambda(0.01)───┼─────────────────────────X^beta───Lambda(0.01)───M───\n",
       "                                                    │       │                          │\n",
       "2: ───H───Lambda(0.01)──────────────────────────────┼───────ZZ^alpha────Lambda(0.01)───┼─────────────────────────X^beta───Lambda(0.01)───M───\n",
       "                                                    │                                  │\n",
       "3: ───H───Lambda(0.01)──────────────────────────────ZZ^alpha────────────Lambda(0.01)───┼─────────────────────────X^beta───Lambda(0.01)───M───\n",
       "                                                                                       │\n",
       "4: ───H───Lambda(0.01)─────────────────────────────────────────────────────────────────ZZ^alpha───Lambda(0.01)───X^beta───Lambda(0.01)───M───\n",
       "                                                   └────────────────┘</pre>"
      ],
      "text/plain": [
       "                                                   ┌────────────────┐\n",
       "0: ───H───Lambda(0.01)───ZZ─────────Lambda(0.01)────ZZ──────────────────Lambda(0.01)───ZZ─────────Lambda(0.01)───X^beta───Lambda(0.01)───M───\n",
       "                         │                          │                                  │\n",
       "1: ───H───Lambda(0.01)───ZZ^alpha───Lambda(0.01)────┼───────ZZ──────────Lambda(0.01)───┼─────────────────────────X^beta───Lambda(0.01)───M───\n",
       "                                                    │       │                          │\n",
       "2: ───H───Lambda(0.01)──────────────────────────────┼───────ZZ^alpha────Lambda(0.01)───┼─────────────────────────X^beta───Lambda(0.01)───M───\n",
       "                                                    │                                  │\n",
       "3: ───H───Lambda(0.01)──────────────────────────────ZZ^alpha────────────Lambda(0.01)───┼─────────────────────────X^beta───Lambda(0.01)───M───\n",
       "                                                                                       │\n",
       "4: ───H───Lambda(0.01)─────────────────────────────────────────────────────────────────ZZ^alpha───Lambda(0.01)───X^beta───Lambda(0.01)───M───\n",
       "                                                   └────────────────┘"
      ]
     },
     "execution_count": 11,
     "metadata": {},
     "output_type": "execute_result"
    }
   ],
   "source": [
    "# Add noise to the circuit.\n",
    "qaoa_circuit(graph, with_noise=DephasingChannel(p=0.01))"
   ]
  },
  {
   "cell_type": "markdown",
   "id": "9ed5b004",
   "metadata": {},
   "source": [
    "## 3. Calculating the expected value of the QAOA cost Hamiltonian\n",
    "Now that we have created a parameterized QAOA circuit, we need a way to calculate expectation values of the cost Hamiltonian. For Max-Cut, the cost Hamiltonian is\n",
    "\n",
    "$$\n",
    "    H_C = \\frac{1}{2} \\sum_{\\langle i, j\\rangle} (1 - Z_i Z_j )\n",
    "$$\n",
    "\n",
    "where $\\langle i, j \\rangle$ denotes neighboring qubits, and $Z$ is the usual Pauli-$Z$ matrix. The expectation value of this cost Hamiltonian is $\\langle \\alpha, \\beta | H_C | \\alpha, \\beta \\rangle$ where $|\\alpha, \\beta\\rangle$ is the quantum state prepared by our `qaoa_circuit`. This is the cost function we need to estimate.\n",
    "\n",
    "> Pauli-$Z$ has eigenvalues $\\pm 1$. If qubits $i$ and $j$ are in the same eigenspace, then $\\langle Z_i Z_j \\rangle = 1$ and so $\\frac{1}{2} \\langle 1 - Z_i Z_j \\rangle = 0$. In the Max-Cut language, this means that edge $ij$ does not contribute to the cost. If qubits $i$ and $j$ are in the opposite eigenspace, then $\\langle Z_i Z_j \\rangle = -1$ and so $\\frac{1}{2} \\langle 1 - Z_i Z_j \\rangle = 1$. In the Max-Cut language, this means that edge $ij$ contributes its weight $1$ to the cost. \n",
    "\n",
    "To estimate the cost function, we need to estimate the (weighted) sum of all $ZZ$ pairs in the graph. Since these terms are diagonal in the same basis (namely, the computational basis), they can measured simultaneously. Given a set of measurements (samples), the function below estimates the cost function.\n",
    "\n",
    "> *Note*: We say \"estimate the cost\" instead of \"compute the cost\" since we are sampling from the circuit. This is how the cost would be evaluated when running QAOA on a real quantum processor."
   ]
  },
  {
   "cell_type": "code",
   "execution_count": 12,
   "id": "6e625fa8",
   "metadata": {},
   "outputs": [],
   "source": [
    "def estimate_cost(graph, samples):\n",
    "    \"\"\"Estimate the cost function of the QAOA on the given graph using the\n",
    "    provided computational basis bitstrings.\"\"\"\n",
    "    cost_value = 0.0\n",
    "\n",
    "    # Loop over edge pairs and compute contribution.\n",
    "    for u, v in graph.edges:\n",
    "        u_samples = samples[str(u)]\n",
    "        v_samples = samples[str(v)]\n",
    "\n",
    "        # Determine if it was a +1 or -1 eigenvalue.\n",
    "        u_signs = (-1)**u_samples\n",
    "        v_signs = (-1)**v_samples\n",
    "        term_signs = u_signs * v_signs\n",
    "\n",
    "        # Add scaled term to total cost.\n",
    "        term_val = np.mean(term_signs)\n",
    "        cost_value += 1/2*(1-term_val)\n",
    "    \n",
    "    # Change plus sign to minus sign if you want to minimize\n",
    "    return - cost_value"
   ]
  },
  {
   "cell_type": "markdown",
   "id": "d1a4e940",
   "metadata": {},
   "source": [
    "Now we can sample from the `qaoa_circuit` and use `estimate_expectation` to calculate the expectation value of the cost function for the circuit. Below, we use arbitrary values for $\\alpha$ and $\\beta$."
   ]
  },
  {
   "cell_type": "code",
   "execution_count": 13,
   "id": "d9aefe6c",
   "metadata": {},
   "outputs": [
    {
     "name": "stdout",
     "output_type": "stream",
     "text": [
      "Alpha = 0.227 Beta = 0.745\n",
      "Estimated cost: -3.0309999999999997\n"
     ]
    }
   ],
   "source": [
    "alpha_value, beta_value = [0.22660737, 0.74500446]\n",
    "alpha_value = float(alpha_value)\n",
    "beta_value = float(beta_value)\n",
    "\n",
    "sim = cirq.Simulator()\n",
    "\n",
    "sample_results = sim.sample(\n",
    "    qaoa_circuit(graph), \n",
    "    params={alpha: alpha_value, beta: beta_value}, \n",
    "    repetitions=5_000\n",
    ")\n",
    "print(f'Alpha = {round(alpha_value, 3)} Beta = {round(beta_value, 3)}')\n",
    "print(f'Estimated cost: {estimate_cost(graph, sample_results)}')"
   ]
  },
  {
   "cell_type": "markdown",
   "id": "c63c9545",
   "metadata": {},
   "source": [
    "We can do the same thing using the `DensityMatrixSimulator`. In particular, with noise this method is much more efficient."
   ]
  },
  {
   "cell_type": "code",
   "execution_count": 14,
   "id": "dfa73acf",
   "metadata": {},
   "outputs": [
    {
     "name": "stdout",
     "output_type": "stream",
     "text": [
      "Alpha = 0.227 Beta = 0.745\n",
      "Estimated cost: -2.949\n"
     ]
    }
   ],
   "source": [
    "\"\"\"Simulating with the density matrix simulator.\"\"\"\n",
    "sim = cirq.DensityMatrixSimulator(\n",
    "    split_untangled_states = True,\n",
    ")\n",
    "\n",
    "resolver = cirq.ParamResolver({'alpha': alpha_value, 'beta': beta_value})\n",
    "result = sim.run(\n",
    "    qaoa_circuit(graph, with_noise=DepolarizingChannel(p=0.01)), \n",
    "    resolver,\n",
    "    repetitions=5_000\n",
    ")\n",
    "\n",
    "samples_results = result.data\n",
    "print(f'Alpha = {round(alpha_value, 3)} Beta = {round(beta_value, 3)}')\n",
    "print(f'Estimated cost: {estimate_cost(graph, samples_results)}')"
   ]
  },
  {
   "cell_type": "markdown",
   "id": "0822efcc",
   "metadata": {},
   "source": [
    "We can also compute the exact cost using $\\mathrm{Tr}(H_C\\rho)$."
   ]
  },
  {
   "cell_type": "code",
   "execution_count": 15,
   "id": "316db778",
   "metadata": {},
   "outputs": [
    {
     "name": "stdout",
     "output_type": "stream",
     "text": [
      "Alpha = 0.227 Beta = 0.745\n",
      "Computed Cost: -2.9553\n"
     ]
    }
   ],
   "source": [
    "\"\"\"Simulating with the density matrix simulator.\"\"\"\n",
    "sim = cirq.DensityMatrixSimulator(\n",
    "    split_untangled_states = True\n",
    ")\n",
    "\n",
    "num_q = len(graph.nodes) # number of qubits\n",
    "# initial state \n",
    "initial_state = np.zeros(2**num_q) \n",
    "initial_state[0] = 1\n",
    "\n",
    "resolver = cirq.ParamResolver({'alpha': alpha_value, 'beta': beta_value})\n",
    "result = sim.simulate(\n",
    "    qaoa_circuit(graph, meas=False, with_noise=DepolarizingChannel(p=0.01)),\n",
    "    resolver,\n",
    "    initial_state=initial_state,\n",
    "    qubit_order=cirq.LineQubit.range(num_q)\n",
    ") \n",
    "\n",
    "\"\"\"Output from simulator.\"\"\"\n",
    "rho = result.final_density_matrix # final state\n",
    "\n",
    "\"\"\"Expectation value\"\"\"\n",
    "print(f'Alpha = {round(alpha_value, 3)} Beta = {round(beta_value, 3)}')\n",
    "print(f'Computed Cost: {round(np.trace(np.diag(C)@rho).real,4)}')"
   ]
  },
  {
   "cell_type": "markdown",
   "id": "61b18702",
   "metadata": {},
   "source": [
    "## 4. Outer loop optimization"
   ]
  },
  {
   "cell_type": "markdown",
   "id": "9dd91883",
   "metadata": {},
   "source": [
    "Now that we can compute the cost function, we want to find the optimal cost. To do this we use a minimizer from the `scipy` library."
   ]
  },
  {
   "cell_type": "code",
   "execution_count": 16,
   "id": "bd69cbec",
   "metadata": {},
   "outputs": [],
   "source": [
    "from scipy.optimize import basinhopping\n",
    "from scipy.optimize import minimize"
   ]
  },
  {
   "cell_type": "markdown",
   "id": "711d247f",
   "metadata": {},
   "source": [
    "We start by defining an objective function"
   ]
  },
  {
   "cell_type": "code",
   "execution_count": 17,
   "id": "1d8d4522",
   "metadata": {},
   "outputs": [],
   "source": [
    "def func(x0):\n",
    "    alpha_value, beta_value = x0\n",
    "    sim = cirq.DensityMatrixSimulator(\n",
    "        split_untangled_states = True\n",
    "    )\n",
    "    circuit = qaoa_circuit(\n",
    "        graph,\n",
    "        meas=False,\n",
    "        with_noise=DepolarizingChannel(p=0.01)\n",
    "    )\n",
    "    \n",
    "    resolver = cirq.ParamResolver({'alpha': alpha_value, 'beta': beta_value})\n",
    "    result = sim.simulate(\n",
    "        circuit,\n",
    "        resolver,\n",
    "        initial_state=initial_state,\n",
    "        qubit_order=cirq.LineQubit.range(num_q)\n",
    "    )\n",
    "    rho = result.final_density_matrix # final state\n",
    "    return np.trace(np.diag(C)@rho).real"
   ]
  },
  {
   "cell_type": "markdown",
   "id": "7693d6e9",
   "metadata": {},
   "source": [
    "Next we can input our objective function to a minimizer"
   ]
  },
  {
   "cell_type": "code",
   "execution_count": 18,
   "id": "fd41af9e",
   "metadata": {},
   "outputs": [],
   "source": [
    "%%script false --no-raise-error\n",
    "\n",
    "x0 = [np.pi/4,np.pi/4]\n",
    "res = basinhopping(\n",
    "    func, \n",
    "    x0,\n",
    "    niter=50,\n",
    "    T=1.0, \n",
    "    stepsize=0.5\n",
    ")"
   ]
  },
  {
   "cell_type": "markdown",
   "id": "94e91d01",
   "metadata": {},
   "source": [
    "and look at the output from the minimizer"
   ]
  },
  {
   "cell_type": "code",
   "execution_count": 19,
   "id": "a114bee7",
   "metadata": {},
   "outputs": [],
   "source": [
    "%%script false --no-raise-error\n",
    "res"
   ]
  },
  {
   "cell_type": "markdown",
   "id": "0169d364",
   "metadata": {},
   "source": [
    "## 5. Virtual Distillation\n",
    "Once we found have the optimal angles we can use virtual distillation to retrive a better cost value / approximation ratio. For simplicity we create the $M=2$ circuit. The mitigated cost is\n",
    "$$\n",
    "\\langle H_C\\rangle_\\mathrm{mitigated} = \\frac{\\mathrm{Tr}(H_C\\rho^2)}{\\mathrm{Tr}(\\rho^2)}.\n",
    "$$"
   ]
  },
  {
   "cell_type": "code",
   "execution_count": 20,
   "id": "2d17dbb8",
   "metadata": {},
   "outputs": [],
   "source": [
    "def virtual_distillation(rho:np.array, meas:bool=True, with_noise:object=None):\n",
    "    shape = rho.shape\n",
    "    num_q = int(np.log2(shape[0])) # number of qubits in rho\n",
    "    qubits = cirq.LineQubit.range(2*num_q+1) # Create qubits\n",
    "    \n",
    "    \"\"\"Create the virtual distillation circuit.\"\"\"\n",
    "    circuit = cirq.Circuit() # Initialize circuit\n",
    "            \n",
    "    for q in range(num_q):\n",
    "        circuit.append(cirq.FREDKIN(qubits[0], qubits[q+1], qubits[num_q+(q+1)]))\n",
    "        if with_noise != None:\n",
    "            circuit.append(with_noise.on_each(qubits[0], qubits[q+1], qubits[num_q+(q+1)]))\n",
    "    \n",
    "    if meas:\n",
    "        # All relevant things can be computed in the computational basis.\n",
    "        circuit.append(cirq.Moment(cirq.measure(q) for q in qubits))\n",
    "    return circuit"
   ]
  },
  {
   "cell_type": "markdown",
   "id": "d671786b",
   "metadata": {},
   "source": [
    "Display the circuit"
   ]
  },
  {
   "cell_type": "code",
   "execution_count": 21,
   "id": "2e363c83",
   "metadata": {},
   "outputs": [
    {
     "data": {
      "text/html": [
       "<pre style=\"overflow: auto; white-space: pre;\">0: ────@───D(0.1)───@───D(0.1)───@───D(0.1)───@───D(0.1)───@───D(0.1)───\n",
       "       │            │            │            │            │\n",
       "1: ────×───D(0.1)───┼────────────┼────────────┼────────────┼────────────\n",
       "       │            │            │            │            │\n",
       "2: ────┼────────────×───D(0.1)───┼────────────┼────────────┼────────────\n",
       "       │            │            │            │            │\n",
       "3: ────┼────────────┼────────────×───D(0.1)───┼────────────┼────────────\n",
       "       │            │            │            │            │\n",
       "4: ────┼────────────┼────────────┼────────────×───D(0.1)───┼────────────\n",
       "       │            │            │            │            │\n",
       "5: ────┼────────────┼────────────┼────────────┼────────────×───D(0.1)───\n",
       "       │            │            │            │            │\n",
       "6: ────×───D(0.1)───┼────────────┼────────────┼────────────┼────────────\n",
       "                    │            │            │            │\n",
       "7: ─────────────────×───D(0.1)───┼────────────┼────────────┼────────────\n",
       "                                 │            │            │\n",
       "8: ──────────────────────────────×───D(0.1)───┼────────────┼────────────\n",
       "                                              │            │\n",
       "9: ───────────────────────────────────────────×───D(0.1)───┼────────────\n",
       "                                                           │\n",
       "10: ───────────────────────────────────────────────────────×───D(0.1)───</pre>"
      ],
      "text/plain": [
       "0: ────@───D(0.1)───@───D(0.1)───@───D(0.1)───@───D(0.1)───@───D(0.1)───\n",
       "       │            │            │            │            │\n",
       "1: ────×───D(0.1)───┼────────────┼────────────┼────────────┼────────────\n",
       "       │            │            │            │            │\n",
       "2: ────┼────────────×───D(0.1)───┼────────────┼────────────┼────────────\n",
       "       │            │            │            │            │\n",
       "3: ────┼────────────┼────────────×───D(0.1)───┼────────────┼────────────\n",
       "       │            │            │            │            │\n",
       "4: ────┼────────────┼────────────┼────────────×───D(0.1)───┼────────────\n",
       "       │            │            │            │            │\n",
       "5: ────┼────────────┼────────────┼────────────┼────────────×───D(0.1)───\n",
       "       │            │            │            │            │\n",
       "6: ────×───D(0.1)───┼────────────┼────────────┼────────────┼────────────\n",
       "                    │            │            │            │\n",
       "7: ─────────────────×───D(0.1)───┼────────────┼────────────┼────────────\n",
       "                                 │            │            │\n",
       "8: ──────────────────────────────×───D(0.1)───┼────────────┼────────────\n",
       "                                              │            │\n",
       "9: ───────────────────────────────────────────×───D(0.1)───┼────────────\n",
       "                                                           │\n",
       "10: ───────────────────────────────────────────────────────×───D(0.1)───"
      ]
     },
     "execution_count": 21,
     "metadata": {},
     "output_type": "execute_result"
    }
   ],
   "source": [
    "virtual_distillation(rho,meas=False,with_noise=DepolarizingChannel(p=0.1))"
   ]
  },
  {
   "cell_type": "markdown",
   "id": "7437ac22",
   "metadata": {},
   "source": [
    "Next we simulate the circuit. We call the output $\\rho_\\mathrm{out}$"
   ]
  },
  {
   "cell_type": "code",
   "execution_count": 22,
   "id": "a1d77eec",
   "metadata": {},
   "outputs": [],
   "source": [
    "\"\"\"Setup variables\"\"\"\n",
    "rho_sq = rho@rho # square of rho\n",
    "shape = rho.shape # shape of rho\n",
    "num_q = int(np.log2(shape[0])) # number of qubits in rho\n",
    "\n",
    "\"\"\"Prepare the initial state of the ancilla\"\"\"\n",
    "ancilla = 1/2*np.array([[1,1],[1,1]])\n",
    "\n",
    "\"\"\"Prepare the total initial state\"\"\"\n",
    "initial_state = cirq.kron(ancilla,rho,rho)\n",
    "\n",
    "\"\"\"Change data type to complex64\"\"\"\n",
    "initial_state = initial_state.astype('complex64')\n",
    "\n",
    "\"\"\"Simulating with the density matrix simulator.\"\"\"\n",
    "simulator = cirq.DensityMatrixSimulator(\n",
    "    split_untangled_states=True\n",
    ")\n",
    "\n",
    "\"\"\"Create the virtial distillation circuit\"\"\"\n",
    "vd_circuit = virtual_distillation(\n",
    "    rho,\n",
    "    meas=False,\n",
    "    with_noise=DepolarizingChannel(p=0.1)\n",
    ")\n",
    "\n",
    "\"\"\"Simulate the circuit\"\"\"\n",
    "qubits = cirq.LineQubit.range(2*num_q+1) # Create qubits\n",
    "result = simulator.simulate(\n",
    "    vd_circuit,\n",
    "    initial_state=initial_state,\n",
    "    qubit_order=qubits\n",
    ")\n",
    "# output density matrix\n",
    "rho_out = result.final_density_matrix"
   ]
  },
  {
   "cell_type": "markdown",
   "id": "3e773e39",
   "metadata": {},
   "source": [
    "We create the measurment operators"
   ]
  },
  {
   "cell_type": "code",
   "execution_count": 23,
   "id": "3a40aea7",
   "metadata": {},
   "outputs": [],
   "source": [
    "\"\"\"\"Symmeterized version of the cost Hamiltonian H_C\"\"\"\n",
    "C_2 = 0 \n",
    "for (u,v) in graph.edges: \n",
    "    C_2 += 1/4 * (1-cirq.PauliString(cirq.Z(qubits[u+1])) * cirq.PauliString(cirq.Z(qubits[v+1]))) \\\n",
    "         + 1/4 * (1-cirq.PauliString(cirq.Z(qubits[u+(num_q+1)])) * cirq.PauliString(cirq.Z(qubits[v+(num_q+1)])))\n",
    "    \n",
    "\"\"\"Ancilla Observable\"\"\"\n",
    "X_0 = cirq.PauliString(cirq.X(qubits[0]))"
   ]
  },
  {
   "cell_type": "markdown",
   "id": "389e20a2",
   "metadata": {},
   "source": [
    "We can now compute\n",
    "$$\n",
    "\\langle H_C\\rangle_\\mathrm{mitigated} = \\frac{\\mathrm{Tr}(X_0 H_C^{(2)}\\rho_\\mathrm{out})}{\\mathrm{Tr}(X_0\\rho_\\mathrm{out})}\n",
    "$$"
   ]
  },
  {
   "cell_type": "code",
   "execution_count": 30,
   "id": "54f3703c",
   "metadata": {},
   "outputs": [
    {
     "name": "stdout",
     "output_type": "stream",
     "text": [
      "Mitigated cost 2.59694\n"
     ]
    }
   ],
   "source": [
    "y = X_0 * C_2 # observable numerator\n",
    "numerator = y.expectation_from_density_matrix(\n",
    "    state=rho_out, \n",
    "    qubit_map={q: i for i, q in enumerate(qubits)}\n",
    ").real\n",
    "\n",
    "denominator = X_0.expectation_from_density_matrix(\n",
    "    state=rho_out, \n",
    "    qubit_map={q: i for i, q in enumerate(qubits)}\n",
    ").real\n",
    "\n",
    "mitigated_cost = (numerator / denominator)\n",
    "print('Mitigated cost', round(mitigated_cost,5))"
   ]
  },
  {
   "cell_type": "markdown",
   "id": "1cbf2fcb",
   "metadata": {},
   "source": [
    "We can compare the mitigated cost to the predicted which is the following for a depolarizing channel\n",
    "\n",
    "$$\n",
    "\\langle H_C\\rangle_\\mathrm{mitigated} = \\frac{1}{2}\\sum_{\\langle i,j\\rangle}\\left((1-\\epsilon)^2\\frac{\\mathrm{Tr}(Z_iZ_j\\rho^2)}{\\mathrm{Tr}(\\rho^2)} -1\\right) \n",
    "$$\n",
    "*Note* for the dephasing channel $\\epsilon=0$."
   ]
  },
  {
   "cell_type": "code",
   "execution_count": 31,
   "id": "f2a25243",
   "metadata": {},
   "outputs": [
    {
     "name": "stdout",
     "output_type": "stream",
     "text": [
      "Predicted mitigated cost 2.59694\n"
     ]
    }
   ],
   "source": [
    "rho_sq = rho@rho / np.trace(rho@rho)\n",
    "epsilon = 0.1 # probability of error\n",
    "_qubits = cirq.LineQubit.range(len(graph.nodes))\n",
    "expval = 0 \n",
    "for u, v in graph.edges:\n",
    "    zz = cirq.PauliString(cirq.Z(_qubits[u])) * cirq.PauliString(cirq.Z(_qubits[v]))\n",
    "    expval_zz = zz.expectation_from_density_matrix(\n",
    "        state=rho_sq, \n",
    "        qubit_map={q: i for i, q in enumerate(_qubits)}\n",
    "    ).real\n",
    "    expval += (1-epsilon)**2 * expval_zz\n",
    "    \n",
    "mitigated_cost_predicted = - 1/2 * (expval - M)\n",
    "print('Predicted mitigated cost', round(mitigated_cost_predicted,5))"
   ]
  },
  {
   "cell_type": "markdown",
   "id": "9117b141",
   "metadata": {},
   "source": [
    "We see that they are equivalent"
   ]
  },
  {
   "cell_type": "markdown",
   "id": "aa1859c6",
   "metadata": {},
   "source": [
    "### 5.1 Variance of estimator\n",
    "The variance of the estimator is given by\n",
    "$$\n",
    "\\newcommand{\\Var}[]{\\mathrm{Var}}\n",
    "\\newcommand{\\expval}[1]{\\langle #1 \\rangle }\n",
    "\\newcommand{\\Cov}[]{\\mathrm{Cov}}\n",
    "\\Var(\\mathrm{Estimator})\\approx \n",
    "    \\frac{1}{R}\\Bigg(\\frac{\\Var(H_C^{(2)}X^\\mathbf{0})}{\\expval{X^\\mathbf{0}}^2} + \\frac{\\expval{H_C^{(2)}X^\\mathbf{0}}^2}{\\expval{X^\\mathbf{0}}^4}\\Var(X^\\mathbf{0}) - 2\\frac{\\expval{H_C^{(2)}X^\\mathbf{0}}}{\\expval{X^\\mathbf{0}}^3}\\Cov(H_C^{(2)}X^\\mathbf{0},X^\\mathbf{0})\\Bigg)\n",
    "$$ \n",
    "where $R$ is the number of samples.\n",
    "\n",
    "We therefore need to calculate the values of the five terms\n",
    "\n",
    "1. $\\expval{H_C^{(2)}X^\\mathbf{0}}$\n",
    "2. $\\expval{X^\\mathbf{0}}$\n",
    "3. $\\Var(H_C^{(2)}X^\\mathbf{0})$\n",
    "4. $\\Var(X^\\mathbf{0})$\n",
    "5. $\\Cov(O^{(2)}X^\\mathbf{0},X^\\mathbf{0})$"
   ]
  },
  {
   "cell_type": "markdown",
   "id": "24097a2e",
   "metadata": {},
   "source": [
    "The **first** term is\n",
    "$\n",
    "\\expval{H_C^{(2)}X^\\mathbf{0}}\n",
    "$"
   ]
  },
  {
   "cell_type": "code",
   "execution_count": 32,
   "id": "72e4752a",
   "metadata": {},
   "outputs": [
    {
     "data": {
      "text/plain": [
       "1.2400628700852394"
      ]
     },
     "execution_count": 32,
     "metadata": {},
     "output_type": "execute_result"
    }
   ],
   "source": [
    "numerator"
   ]
  },
  {
   "cell_type": "markdown",
   "id": "fc33e54d",
   "metadata": {},
   "source": [
    "The **second** term is\n",
    "$\n",
    "\\expval{X^\\mathbf{0}}\n",
    "$"
   ]
  },
  {
   "cell_type": "code",
   "execution_count": 33,
   "id": "4a733f76",
   "metadata": {},
   "outputs": [
    {
     "data": {
      "text/plain": [
       "0.4775099754333496"
      ]
     },
     "execution_count": 33,
     "metadata": {},
     "output_type": "execute_result"
    }
   ],
   "source": [
    "denominator"
   ]
  },
  {
   "cell_type": "markdown",
   "id": "c12e19ed",
   "metadata": {},
   "source": [
    "The **third** term is \n",
    "$\n",
    "\\Var(H_C^{2}X^\\mathbf{0}) \n",
    "= \\expval{(H_C^{(2)}X^\\mathbf{0})^2} - \\expval{H_C^{(2)}X^\\mathbf{0}}\n",
    "= \\expval{(H_C^{(2)})^2} - \\expval{H_C^{(2)}X^\\mathbf{0}}\n",
    "$"
   ]
  },
  {
   "cell_type": "code",
   "execution_count": 34,
   "id": "3792d2e7",
   "metadata": {},
   "outputs": [],
   "source": [
    "y = C_2*C_2\n",
    "var_numerator = y.expectation_from_density_matrix(\n",
    "    state=rho_out, \n",
    "    qubit_map={q: i for i, q in enumerate(qubits)}\n",
    ").real - numerator**2"
   ]
  },
  {
   "cell_type": "markdown",
   "id": "a01eb357",
   "metadata": {},
   "source": [
    "The **fourth** term is $\\Var(X^\\mathbf{0}) = \\expval{(X^\\mathbf{0})^2} - \\expval{X^\\mathbf{0}}^2 = 1 - \\expval{X^\\mathbf{0}}^2$"
   ]
  },
  {
   "cell_type": "code",
   "execution_count": 35,
   "id": "4d3b4542",
   "metadata": {},
   "outputs": [],
   "source": [
    "var_denominator = 1 - denominator**2"
   ]
  },
  {
   "cell_type": "markdown",
   "id": "14cca222",
   "metadata": {},
   "source": [
    "The **fifth** term is $\\Cov(O^{(2)}X^\\mathbf{0},X^\\mathbf{0}) = \\expval{H_C^{(2)}(X^\\mathbf{0})^2} - \\expval{H_C^{(2)}X^\\mathbf{0}}\\expval{X^\\mathbf{0}} = \\expval{H_C^{(2)}} - \\expval{H_C^{(2)}X^\\mathbf{0}}\\expval{X^\\mathbf{0}}$ "
   ]
  },
  {
   "cell_type": "code",
   "execution_count": 36,
   "id": "63005380",
   "metadata": {},
   "outputs": [],
   "source": [
    "cov = (C_2).expectation_from_density_matrix(\n",
    "    state=rho_out, \n",
    "    qubit_map={q: i for i, q in enumerate(qubits)}\n",
    ").real - numerator*denominator"
   ]
  },
  {
   "cell_type": "markdown",
   "id": "d2adaaea",
   "metadata": {},
   "source": [
    "The variance of the estimator can now be calculated"
   ]
  },
  {
   "cell_type": "code",
   "execution_count": 37,
   "id": "e02a5233",
   "metadata": {},
   "outputs": [
    {
     "name": "stdout",
     "output_type": "stream",
     "text": [
      "The variance is 1.36878008 for epsilon = 0.1\n"
     ]
    }
   ],
   "source": [
    "var_estimator = (var_numerator / denominator**2 \\\n",
    "               + numerator**2 / denominator**4 * var_denominator \\\n",
    "               - 2 * numerator / denominator**3 * cov)\n",
    "print(\"The variance is {0} for epsilon = {1}\".format(round(var_estimator.real,8), epsilon))"
   ]
  },
  {
   "cell_type": "markdown",
   "id": "4b222a9b",
   "metadata": {},
   "source": [
    "The number of measurments required to be below `threshold` is  "
   ]
  },
  {
   "cell_type": "code",
   "execution_count": 38,
   "id": "ace214da",
   "metadata": {},
   "outputs": [
    {
     "name": "stdout",
     "output_type": "stream",
     "text": [
      "Number of measurments is 1369 to have the variance below 0.001\n"
     ]
    }
   ],
   "source": [
    "threshold = 1e-3\n",
    "R = var_estimator / threshold\n",
    "print(\"Number of measurments is {0} to have the variance below {1}\".format(int(np.ceil(R)), threshold))"
   ]
  },
  {
   "cell_type": "markdown",
   "id": "16a10125",
   "metadata": {},
   "source": [
    "The variance of the unmitigated expectation value would be \n",
    "$\\Var(\\bar X) = \\frac{1}{R} \\sigma^2$\n",
    "with $\\sigma^2 = \\expval{H_C^2} - \\expval{H_C}^2$"
   ]
  },
  {
   "cell_type": "code",
   "execution_count": 40,
   "id": "4537e600",
   "metadata": {},
   "outputs": [
    {
     "name": "stdout",
     "output_type": "stream",
     "text": [
      "Number of measurments is 356 to have the variance below 0.001\n"
     ]
    }
   ],
   "source": [
    "var_cost = np.trace(np.diag(C)@np.diag(C)@rho).real - np.trace(np.diag(C)@rho).real**2\n",
    "R = var_cost / threshold\n",
    "print(\"Number of measurments is {0} to have the variance below {1}\".format(int(np.ceil(R)), threshold))"
   ]
  },
  {
   "cell_type": "markdown",
   "id": "ff7211d8",
   "metadata": {},
   "source": [
    "### Version"
   ]
  },
  {
   "cell_type": "code",
   "execution_count": 31,
   "id": "7614b486",
   "metadata": {},
   "outputs": [
    {
     "name": "stdout",
     "output_type": "stream",
     "text": [
      "python: 3.9.7\n",
      "cirq: 0.12.0\n",
      "numpy: 1.21.2\n",
      "sympy: 1.9\n",
      "networkx: 2.6.3\n"
     ]
    }
   ],
   "source": [
    "import platform\n",
    "print(\"python:\",platform.python_version())\n",
    "print('cirq:',cirq.__version__)\n",
    "print('numpy:',np.__version__)\n",
    "print('sympy:',sp.__version__)\n",
    "print('networkx:',nx.__version__)"
   ]
  }
 ],
 "metadata": {
  "kernelspec": {
   "display_name": "Python 3 (ipykernel)",
   "language": "python",
   "name": "python3"
  },
  "language_info": {
   "codemirror_mode": {
    "name": "ipython",
    "version": 3
   },
   "file_extension": ".py",
   "mimetype": "text/x-python",
   "name": "python",
   "nbconvert_exporter": "python",
   "pygments_lexer": "ipython3",
   "version": "3.9.9"
  }
 },
 "nbformat": 4,
 "nbformat_minor": 5
}
