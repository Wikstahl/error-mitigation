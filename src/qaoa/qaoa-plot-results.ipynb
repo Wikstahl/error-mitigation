{
 "cells": [
  {
   "cell_type": "code",
   "execution_count": 1,
   "id": "30d171d4",
   "metadata": {},
   "outputs": [],
   "source": [
    "import pickle\n",
    "import numpy as np\n",
    "import pandas as pd\n",
    "import matplotlib as mpl\n",
    "import matplotlib.pyplot as plt\n",
    "import networkx as nx\n",
    "from module import MyClass, DephasingChannel, DepolarizingChannel, Results\n",
    "import module.plotlib as plotlib\n",
    "import seaborn as sns\n",
    "plotlib.update_settings(usetex=True)\n",
    "%load_ext autoreload\n",
    "%autoreload 2"
   ]
  },
  {
   "cell_type": "markdown",
   "id": "78dc2e10",
   "metadata": {},
   "source": [
    "Create a color map"
   ]
  },
  {
   "cell_type": "code",
   "execution_count": 2,
   "id": "08099f7c",
   "metadata": {},
   "outputs": [],
   "source": [
    "from matplotlib.colors import ListedColormap\n",
    "colors = []\n",
    "colors.append(mpl.colors.to_rgb('#4666FF'))\n",
    "colors.append((0.8833417, 0.19830556, 0.26014181))\n",
    "colors.append(mpl.colors.to_rgb('#FFA347'))\n",
    "colors.append(mpl.colors.to_rgb('#FFE047'))\n",
    "colors.append(mpl.colors.to_rgb('#9966CC'))\n",
    "colors.append(mpl.colors.to_rgb('#26428B'))\n",
    "colors.append(mpl.colors.to_rgb('#989898'))\n",
    "colors.append(mpl.colors.to_rgb('#9BC4E2'))\n",
    "newcmp = ListedColormap(colors)"
   ]
  },
  {
   "cell_type": "markdown",
   "id": "c0851a99",
   "metadata": {},
   "source": [
    "Loop over all instances"
   ]
  },
  {
   "cell_type": "code",
   "execution_count": 3,
   "id": "077680e9",
   "metadata": {},
   "outputs": [],
   "source": [
    "import os\n",
    "nb_path = os.path.dirname(os.path.realpath(\"__file__\"))\n",
    "os.chdir('../../data/')"
   ]
  },
  {
   "cell_type": "code",
   "execution_count": 4,
   "id": "6ea06125",
   "metadata": {},
   "outputs": [],
   "source": [
    "# Calculate the cost at the output from QAOA\n",
    "approxr_dephasing = []\n",
    "approxr_depolarizing = []\n",
    "var_dephasing = []\n",
    "var_depolarizing = []\n",
    "\n",
    "# Calculate the mitigated cost \n",
    "m_approxr_dephasing = []\n",
    "m_approxr_depolarizing = []\n",
    "m_var_dephasing = []\n",
    "m_var_depolarizing = []\n",
    "\n",
    "# Loop over all instances\n",
    "for i in range(30):\n",
    "    # Path to data\n",
    "    path = 'max_cut_' + str(i) + '/'\n",
    "\n",
    "    # Create result object\n",
    "    res = Results(path)\n",
    "    \n",
    "    approxr, var = res.DephasingNoise()\n",
    "    m_approx_r, m_var = res.DephasingNoiseWithVD()\n",
    "    \n",
    "    # Append results\n",
    "    approxr_dephasing.append(approxr)\n",
    "    m_approxr_dephasing.append(m_approx_r)\n",
    "    var_dephasing.append(var)\n",
    "    m_var_dephasing.append(m_var)\n",
    "    \n",
    "    approxr, var = res.DepolarizingNoise()\n",
    "    m_approx_r, m_var = res.DepolarizingNoiseWithVD()\n",
    "\n",
    "    # Append results\n",
    "    approxr_depolarizing.append(approxr)\n",
    "    m_approxr_depolarizing.append(m_approx_r)\n",
    "    var_depolarizing.append(var)\n",
    "    m_var_depolarizing.append(m_var)"
   ]
  },
  {
   "cell_type": "code",
   "execution_count": 5,
   "id": "d78a5b58",
   "metadata": {},
   "outputs": [
    {
     "data": {
      "image/png": "[encoded data removed]",
      "text/plain": [
       "<Figure size 243x300.365 with 2 Axes>"
      ]
     },
     "metadata": {
      "needs_background": "light"
     },
     "output_type": "display_data"
    }
   ],
   "source": [
    "ideal = np.mean(approxr_dephasing,axis=0)[0]\n",
    "x = np.linspace(0,0.1,21,endpoint=True)\n",
    "threshold = 1e-3 \n",
    "\n",
    "\"\"\"Save a figure\"\"\"\n",
    "fig, ax = plotlib.create_fig(single_col=True,nrows=2)\n",
    "\n",
    "\"\"\"First plot\"\"\"\n",
    "ax[0].plot(x,ideal-np.mean(approxr_dephasing,axis=0),'--',label=r'Unmitigated ($\\Lambda_\\text{Z}$)',color=colors[0])\n",
    "\n",
    "\"\"\"Second plot\"\"\"\n",
    "ax[0].plot(x,ideal-np.mean(approxr_depolarizing,axis=0),'--',label=r'Unmitigated ($\\Lambda_\\text{dep}$)',color=colors[1])\n",
    "\n",
    "\"\"\"Third plot\"\"\"\n",
    "ax[0].plot(x,ideal-np.mean(m_approxr_dephasing,axis=0),'-',label=r'Mitigated ($\\Lambda_\\text{Z}$)',color=colors[0])\n",
    "\n",
    "\"\"\"Fourth plot\"\"\"\n",
    "ax[0].plot(x,ideal-np.mean(m_approxr_depolarizing,axis=0),'-',label=r'Mitigated ($\\Lambda_\\text{dep}$)',color=colors[1])\n",
    "\n",
    "\"\"\"Labels, Ticks and Legens\"\"\"\n",
    "#ax.set_yticks([.7,.74,.78,.82])\n",
    "#ax.set_ylim([.695,.825])\n",
    "#ax.set_xlim([0,.1])\n",
    "\n",
    "ax[0].set_ylabel(r'mean dist. to'\n",
    "                 '\\n'\n",
    "                 r'ideal approx. ratio');\n",
    "ax[0].legend(loc=\"best\", frameon=False, framealpha=1, ncol=1, fontsize=8)\n",
    "\n",
    "ax[0].tick_params(axis=\"x\", direction=\"out\", which='major')\n",
    "ax[0].tick_params(axis=\"y\", direction=\"out\")\n",
    "ax[0].tick_params(right=False, top=False)\n",
    "ax[0].set_title('variational states')\n",
    "\n",
    "plotlib.add_label(ax[0],x0=0.18)\n",
    "#plt.close()\n",
    "\n",
    "\n",
    "\"\"\"First plot\"\"\"\n",
    "ax[1].semilogy(x,np.mean(var_dephasing,axis=0)/threshold/2,label=r'Unmitigated ($\\Lambda_\\text{Z}$)',linestyle='--',color=colors[0])\n",
    "ax[1].semilogy(x,np.mean(var_depolarizing,axis=0)/threshold/2,label=r'Unmitigated ($\\Lambda_\\text{dep}$)',linestyle='--',color=colors[1])\n",
    "ax[1].semilogy(x,np.mean(m_var_dephasing,axis=0)/threshold,label=r'Mitigated ($\\Lambda_\\text{Z}$)',color=colors[0])\n",
    "ax[1].semilogy(x,np.mean(m_var_depolarizing,axis=0)/threshold,label=r'Mitigated ($\\Lambda_\\text{dep}$)',color=colors[1])\n",
    "\n",
    "ax[1].set_xlabel(r'error probability $\\epsilon$');\n",
    "#ax[1].set_yticks([1e2,1e3,1e4,1e5,1e6,1e7])\n",
    "#ax[1].set_ylim([2*1e2,1.2*1e7])\n",
    "ax[1].set_ylabel(r'mean $R$');\n",
    "ax[1].set_xlim([0,.1])\n",
    "ax[1].legend(loc=\"best\", frameon=False, framealpha=1, ncol=1, fontsize=8)\n",
    "\n",
    "ax[1].tick_params(axis=\"x\", direction=\"out\", which='major')\n",
    "ax[1].tick_params(axis=\"y\", direction=\"out\")\n",
    "ax[1].tick_params(right=False, top=False)\n",
    "plotlib.add_label(ax[1],x0=0.18,text='(b)')"
   ]
  },
  {
   "cell_type": "code",
   "execution_count": 6,
   "id": "991f29ef",
   "metadata": {},
   "outputs": [],
   "source": [
    "fig.savefig(\"../figures/fig-qaoa.pdf\",\n",
    "            bbox_inches='tight',\n",
    "            pad_inches=0.1)"
   ]
  },
  {
   "cell_type": "markdown",
   "id": "e55dea72",
   "metadata": {},
   "source": [
    "# Plot the drift"
   ]
  },
  {
   "cell_type": "code",
   "execution_count": 7,
   "id": "9291876d",
   "metadata": {},
   "outputs": [],
   "source": [
    "drift_dephasing = []\n",
    "drift_depolarizing = []\n",
    "drift_with_vd_dephasing = []\n",
    "drift_with_vd_depolarizing = []\n",
    "\n",
    "# Loop over all instances\n",
    "for i in range(30):\n",
    "    # Path to data\n",
    "    path = 'max_cut_' + str(i) + '/'\n",
    "    # Create result object\n",
    "    res = pickle.load(open(path + \"qaoa_drift\", \"rb\"))\n",
    "    drift_dephasing.append(res[0])\n",
    "    drift_depolarizing.append(res[1])\n",
    "    \n",
    "    res = pickle.load(open(path + \"qaoa_drift_with_vd\", \"rb\"))\n",
    "    drift_with_vd_dephasing.append(res[0])\n",
    "    drift_with_vd_depolarizing.append(res[1])"
   ]
  },
  {
   "cell_type": "code",
   "execution_count": 8,
   "id": "a3beb0e2",
   "metadata": {},
   "outputs": [
    {
     "data": {
      "image/png": "[encoded data removed]",
      "text/plain": [
       "<Figure size 243x150.182 with 1 Axes>"
      ]
     },
     "metadata": {
      "needs_background": "light"
     },
     "output_type": "display_data"
    }
   ],
   "source": [
    "fig, ax = plotlib.create_fig(single_col=True,nrows=1)\n",
    "x = np.linspace(0, 0.1, 21)\n",
    "ax.semilogy(x,np.mean(drift_with_vd_dephasing,axis=0),'.-',label=r'$\\Lambda_\\mathrm{Z}$',color=colors[0])\n",
    "ax.semilogy(x,np.mean(drift_with_vd_depolarizing,axis=0),'.-',label=r'$\\Lambda_\\mathrm{dep}$',color=colors[1])\n",
    "\n",
    "ax.set_ylabel(r'mean coherent mismatch $c$');\n",
    "ax.set_xlabel(r'error probability $\\epsilon$');\n",
    "ax.legend(loc=\"best\", frameon=False, framealpha=1, ncol=1, fontsize=8)\n",
    "\n",
    "ax.tick_params(axis=\"x\", direction=\"out\", which='major')\n",
    "ax.tick_params(axis=\"y\", direction=\"out\")\n",
    "ax.tick_params(right=False, top=False)"
   ]
  },
  {
   "cell_type": "code",
   "execution_count": 9,
   "id": "e2c7fec5",
   "metadata": {},
   "outputs": [],
   "source": [
    "fig.savefig(\"../figures/fig-drift.pdf\",\n",
    "            bbox_inches='tight',\n",
    "            pad_inches=0.1)"
   ]
  }
 ],
 "metadata": {
  "kernelspec": {
   "display_name": "Python 3 (ipykernel)",
   "language": "python",
   "name": "python3"
  },
  "language_info": {
   "codemirror_mode": {
    "name": "ipython",
    "version": 3
   },
   "file_extension": ".py",
   "mimetype": "text/x-python",
   "name": "python",
   "nbconvert_exporter": "python",
   "pygments_lexer": "ipython3",
   "version": "3.9.14"
  }
 },
 "nbformat": 4,
 "nbformat_minor": 5
}
