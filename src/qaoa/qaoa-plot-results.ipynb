{
 "cells": [
  {
   "cell_type": "code",
   "execution_count": 1,
   "id": "30d171d4",
   "metadata": {},
   "outputs": [],
   "source": [
    "import pickle\n",
    "import numpy as np\n",
    "import pandas as pd\n",
    "import matplotlib as mpl\n",
    "import matplotlib.pyplot as plt\n",
    "import networkx as nx\n",
    "from module import MyClass, DephasingChannel, DepolarizingChannel, AmplitudeDampingChannel, Results, average_gate_fidelity\n",
    "import module.plotlib as plotlib\n",
    "import seaborn as sns\n",
    "%load_ext autoreload\n",
    "%autoreload 2"
   ]
  },
  {
   "attachments": {},
   "cell_type": "markdown",
   "id": "78dc2e10",
   "metadata": {},
   "source": [
    "Create a color map"
   ]
  },
  {
   "cell_type": "code",
   "execution_count": 2,
   "id": "08099f7c",
   "metadata": {},
   "outputs": [],
   "source": [
    "from matplotlib.colors import ListedColormap\n",
    "colors = []\n",
    "colors.append(mpl.colors.to_rgb('#4666FF'))\n",
    "colors.append((0.8833417, 0.19830556, 0.26014181))\n",
    "colors.append(mpl.colors.to_rgb('#FFA347'))\n",
    "colors.append(mpl.colors.to_rgb('#FFE047'))\n",
    "colors.append(mpl.colors.to_rgb('#9966CC'))\n",
    "colors.append(mpl.colors.to_rgb('#26428B'))\n",
    "colors.append(mpl.colors.to_rgb('#989898'))\n",
    "colors.append(mpl.colors.to_rgb('#9BC4E2'))\n",
    "newcmp = ListedColormap(colors)"
   ]
  },
  {
   "attachments": {},
   "cell_type": "markdown",
   "id": "c0851a99",
   "metadata": {},
   "source": [
    "Loop over all instances"
   ]
  },
  {
   "cell_type": "code",
   "execution_count": 3,
   "id": "077680e9",
   "metadata": {},
   "outputs": [],
   "source": [
    "import os\n",
    "nb_path = os.path.dirname(os.path.realpath(\"__file__\"))\n",
    "os.chdir('../../data/')"
   ]
  },
  {
   "cell_type": "code",
   "execution_count": 4,
   "id": "6ea06125",
   "metadata": {},
   "outputs": [],
   "source": [
    "# Calculate the cost at the output from QAOA\n",
    "approxr_dephasing = []\n",
    "approxr_depolarizing = []\n",
    "approxr_amplitude = []\n",
    "\n",
    "var_dephasing = []\n",
    "var_depolarizing = []\n",
    "var_amplitude = []\n",
    "\n",
    "# Calculate the mitigated cost \n",
    "m_approxr_dephasing = []\n",
    "m_approxr_depolarizing = []\n",
    "m_approxr_amplitude = []\n",
    "\n",
    "m_var_dephasing = []\n",
    "m_var_depolarizing = []\n",
    "m_var_amplitude = []\n",
    "\n",
    "# Loop over all instances\n",
    "for i in range(30):\n",
    "    # Path to data\n",
    "    path = 'max_cut_' + str(i) + '/'\n",
    "\n",
    "    # Create result object\n",
    "    res = Results(path)\n",
    "    \n",
    "    approxr, var = res.DephasingNoise()\n",
    "    m_approx_r, m_var = res.DephasingNoiseWithVD()\n",
    "    \n",
    "    # Append results\n",
    "    approxr_dephasing.append(approxr)\n",
    "    m_approxr_dephasing.append(m_approx_r)\n",
    "    var_dephasing.append(var)\n",
    "    m_var_dephasing.append(m_var)\n",
    "    \n",
    "    approxr, var = res.DepolarizingNoise()\n",
    "    m_approx_r, m_var = res.DepolarizingNoiseWithVD()\n",
    "\n",
    "    # Append results\n",
    "    approxr_depolarizing.append(approxr)\n",
    "    m_approxr_depolarizing.append(m_approx_r)\n",
    "    var_depolarizing.append(var)\n",
    "    m_var_depolarizing.append(m_var)\n",
    "\n",
    "    approxr, var = res.AmplitudeDampingNoise()\n",
    "    m_approx_r, m_var = res.AmplitudeDampingNoiseWithVD()\n",
    "\n",
    "    # Append results\n",
    "    approxr_amplitude.append(approxr)\n",
    "    m_approxr_amplitude.append(m_approx_r)\n",
    "    var_amplitude.append(var)\n",
    "    m_var_amplitude.append(m_var)"
   ]
  },
  {
   "cell_type": "code",
   "execution_count": 5,
   "id": "5f31e27e",
   "metadata": {},
   "outputs": [],
   "source": [
    "plotlib.update_settings(usetex=True, bw=False, style='APS', settings=None)"
   ]
  },
  {
   "cell_type": "code",
   "execution_count": 7,
   "id": "d78a5b58",
   "metadata": {},
   "outputs": [
    {
     "data": {
      "image/png": "[encoded data removed]",
      "text/plain": [
       "<Figure size 243x300.365 with 2 Axes>"
      ]
     },
     "metadata": {
      "needs_background": "light"
     },
     "output_type": "display_data"
    }
   ],
   "source": [
    "from matplotlib.ticker import LogLocator\n",
    "\n",
    "ideal = np.mean(approxr_dephasing,axis=0)[0]\n",
    "x = np.linspace(0,0.1,21,endpoint=True)\n",
    "threshold = 1e-3 \n",
    "\n",
    "\"\"\"Save a figure\"\"\"\n",
    "fig, ax = plotlib.create_fig(single_col=False,ncols=1,nrows=2)\n",
    "\n",
    "\"\"\"First plot\"\"\"\n",
    "line1, = ax[0].plot(x,ideal-np.mean(approxr_dephasing,axis=0),'--',label=r'Unmitigated ($\\Lambda_\\mathrm{Z}$)',color=colors[0])\n",
    "line2, = ax[0].plot(x,ideal-np.mean(approxr_depolarizing,axis=0),'--',label=r'Unmitigated ($\\Lambda_\\mathrm{dep}$)',color=colors[1])\n",
    "line3, = ax[0].plot(x,ideal-np.mean(approxr_amplitude,axis=0),'--',label=r'Unmitigated ($\\Lambda_\\mathrm{amp}$)',color=colors[2])\n",
    "\n",
    "line4, = ax[0].plot(x,ideal-np.mean(m_approxr_dephasing,axis=0),'-',label=r'Mitigated ($\\Lambda_\\mathrm{Z}$)',color=colors[0])\n",
    "line5, = ax[0].plot(x,ideal-np.mean(m_approxr_depolarizing,axis=0),'-',label=r'Mitigated ($\\Lambda_\\mathrm{dep}$)',color=colors[1])\n",
    "line6, = ax[0].plot(x,ideal-np.mean(m_approxr_amplitude,axis=0),'-',label=r'Mitigated ($\\Lambda_\\mathrm{amp}$)',color=colors[2])\n",
    "\n",
    "\n",
    "\"\"\"Labels, Ticks and Legens\"\"\"\n",
    "ax[0].set_xlim([0,.1])\n",
    "ax[0].set_ylabel(r'mean dist. to'\n",
    "                 '\\n'\n",
    "                 r'ideal approx. ratio');\n",
    "\n",
    "ax[0].tick_params(axis=\"x\", direction=\"out\", which='major')\n",
    "ax[0].tick_params(axis=\"y\", direction=\"out\")\n",
    "ax[0].tick_params(right=False, top=False)\n",
    "\n",
    "ax[0].set_title(r'variational states', pad=40);\n",
    "plotlib.add_label(ax[0],x0=0.18,text='(a)')\n",
    "\n",
    "\"\"\"Second plot\"\"\"\n",
    "ax[1].semilogy(x,np.mean(var_dephasing,axis=0)/threshold/2,linestyle='--',label=r'Unmitigated ($\\Lambda_\\mathrm{Z}$)',color=colors[0])\n",
    "ax[1].semilogy(x,np.mean(var_depolarizing,axis=0)/threshold/2,linestyle='--',label=r'Unmitigated ($\\Lambda_\\mathrm{dep}$)',color=colors[1])\n",
    "ax[1].semilogy(x,np.mean(var_amplitude,axis=0)/threshold/2,linestyle='--',label=r'Unmitigated ($\\Lambda_\\mathrm{amp}$)',color=colors[2])\n",
    "\n",
    "ax[1].semilogy(x,np.mean(m_var_dephasing,axis=0)/threshold,label=r'Mitigated ($\\Lambda_\\mathrm{Z}$)',color=colors[0])\n",
    "ax[1].semilogy(x,np.mean(m_var_depolarizing,axis=0)/threshold,label=r'Mitigated ($\\Lambda_\\mathrm{dep}$)',color=colors[1])\n",
    "ax[1].semilogy(x,np.mean(m_var_amplitude,axis=0)/threshold,label=r'Mitigated ($\\Lambda_\\mathrm{amp}$)',color=colors[2])\n",
    "\n",
    "ax[1].set_xlabel(r'error probability $\\epsilon$');\n",
    "ax[1].set_ylabel(r'mean $R$');\n",
    "ax[1].set_xlim([0,.1])\n",
    "#ax[1].legend(loc=\"best\", frameon=False, framealpha=1, ncol=1, fontsize=8)\n",
    "\n",
    "ax[1].tick_params(axis=\"x\", direction=\"out\", which='major')\n",
    "ax[1].tick_params(axis=\"y\", direction=\"out\")\n",
    "ax[1].tick_params(right=False, top=False)\n",
    "\n",
    "ax[1].set_xlim([0,.1])\n",
    "#ax[1].set_xticks([0.00, 0.05,0.10])\n",
    "\n",
    "ax[1].set_yscale(\"log\")\n",
    "\n",
    "# Set the locator of major and minor ticks\n",
    "ax[1].yaxis.set_major_locator(LogLocator(base=10.0, numticks=10))\n",
    "ax[1].yaxis.set_minor_locator(LogLocator(base=10.0, subs=(0.2,0.4,0.6,0.8), numticks=10))\n",
    "\n",
    "ax[0].legend(loc=\"upper center\", frameon=False, framealpha=1, ncol=2, fontsize=8, bbox_to_anchor=(0.5,1.35))\n",
    "\n",
    "plotlib.add_label(ax[1],x0=0.18, text='(b)')\n",
    "\n",
    "plt.subplots_adjust(wspace=0.3)  # Or whatever value you need."
   ]
  },
  {
   "cell_type": "code",
   "execution_count": 20,
   "id": "991f29ef",
   "metadata": {},
   "outputs": [],
   "source": [
    "fig.savefig(\"../figures/fig-qaoa-new.pdf\",\n",
    "            bbox_inches='tight',\n",
    "            pad_inches=0.1)"
   ]
  },
  {
   "cell_type": "code",
   "execution_count": 8,
   "id": "f39df8d5",
   "metadata": {},
   "outputs": [
    {
     "data": {
      "text/plain": [
       "0.6766251617214228"
      ]
     },
     "execution_count": 8,
     "metadata": {},
     "output_type": "execute_result"
    }
   ],
   "source": [
    "v_a = np.mean(m_approxr_dephasing,axis=0)[-1]\n",
    "v_b = np.mean(approxr_dephasing,axis=0)[-1]\n",
    "v_e = ideal\n",
    "x = (v_e-v_a)\n",
    "y = (v_e-v_b)\n",
    "1-x/y"
   ]
  },
  {
   "attachments": {},
   "cell_type": "markdown",
   "id": "e55dea72",
   "metadata": {},
   "source": [
    "# Plot the drift"
   ]
  },
  {
   "cell_type": "code",
   "execution_count": 9,
   "id": "9291876d",
   "metadata": {},
   "outputs": [],
   "source": [
    "drift_dephasing = []\n",
    "drift_depolarizing = []\n",
    "drift_amplitude = []\n",
    "drift_with_vd_dephasing = []\n",
    "drift_with_vd_depolarizing = []\n",
    "drift_with_vd_amplitude = []\n",
    "\n",
    "# Loop over all instances\n",
    "for i in range(30):\n",
    "    # Path to data\n",
    "    path = 'max_cut_' + str(i) + '/'\n",
    "    # Create result object\n",
    "    res = pickle.load(open(path + \"qaoa_drift\", \"rb\"))\n",
    "    drift_dephasing.append(res[0])\n",
    "    drift_depolarizing.append(res[1])\n",
    "    drift_amplitude.append(res[2])\n",
    "    \n",
    "    res = pickle.load(open(path + \"qaoa_drift_with_vd\", \"rb\"))\n",
    "    drift_with_vd_dephasing.append(res[0])\n",
    "    drift_with_vd_depolarizing.append(res[1])\n",
    "    drift_with_vd_amplitude.append(res[2])"
   ]
  },
  {
   "cell_type": "code",
   "execution_count": 10,
   "id": "a3beb0e2",
   "metadata": {},
   "outputs": [
    {
     "data": {
      "image/png": "[encoded data removed]",
      "text/plain": [
       "<Figure size 243x150.182 with 1 Axes>"
      ]
     },
     "metadata": {
      "needs_background": "light"
     },
     "output_type": "display_data"
    }
   ],
   "source": [
    "fig, ax = plotlib.create_fig(single_col=True,nrows=1)\n",
    "x = np.linspace(0, 0.1, 21)\n",
    "ax.semilogy(x,np.mean(drift_with_vd_dephasing,axis=0),'.-',label=r'$\\Lambda_\\mathrm{Z}$',color=colors[0])\n",
    "ax.semilogy(x,np.mean(drift_with_vd_depolarizing,axis=0),'.-',label=r'$\\Lambda_\\mathrm{dep}$',color=colors[1])\n",
    "ax.semilogy(x,np.mean(drift_with_vd_amplitude,axis=0),'.-',label=r'$\\Lambda_\\mathrm{amp}$',color=colors[2])\n",
    "\n",
    "ax.set_ylabel(r'mean coherent mismatch $c$');\n",
    "ax.set_xlabel(r'error probability $\\epsilon$');\n",
    "ax.legend(loc=\"best\", frameon=False, framealpha=1, ncol=1, fontsize=8)\n",
    "\n",
    "ax.tick_params(axis=\"x\", direction=\"out\", which='major')\n",
    "ax.tick_params(axis=\"y\", direction=\"out\")\n",
    "ax.tick_params(right=False, top=False)"
   ]
  },
  {
   "cell_type": "code",
   "execution_count": 41,
   "id": "e2c7fec5",
   "metadata": {},
   "outputs": [],
   "source": [
    "fig.savefig(\"../figures/fig-drift.pdf\",\n",
    "            bbox_inches='tight',\n",
    "            pad_inches=0.1)"
   ]
  }
 ],
 "metadata": {
  "kernelspec": {
   "display_name": "Python 3 (ipykernel)",
   "language": "python",
   "name": "python3"
  },
  "language_info": {
   "codemirror_mode": {
    "name": "ipython",
    "version": 3
   },
   "file_extension": ".py",
   "mimetype": "text/x-python",
   "name": "python",
   "nbconvert_exporter": "python",
   "pygments_lexer": "ipython3",
   "version": "3.9.17"
  }
 },
 "nbformat": 4,
 "nbformat_minor": 5
}
